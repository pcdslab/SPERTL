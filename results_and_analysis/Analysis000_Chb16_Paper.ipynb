{
 "cells": [
  {
   "cell_type": "code",
   "execution_count": 1,
   "id": "50a2bd0f",
   "metadata": {},
   "outputs": [],
   "source": [
    "import numpy as np\n",
    "import pandas as pd\n",
    "import os\n",
    "import h5py\n",
    "from sklearn import metrics\n",
    "from matplotlib import pyplot as plt"
   ]
  },
  {
   "cell_type": "code",
   "execution_count": 2,
   "id": "5cfa14e3",
   "metadata": {},
   "outputs": [],
   "source": [
    "pat_id = 16;\n",
    "y_prob = np.load('/disk/raptor/lclhome/umohamma/eeg_experiments/chb_mit_exps/preds_exps/output_paper/output_pap_chb16.npy')\n",
    "y_true = pd.read_csv('/disk/raptor-2/umohamma/research_data/eeg_chb_mit/pap/tst/mit_eeg_scaled_srate256hz_wlen4s_patid16_allrecs_tst_labs.csv',header=None).values"
   ]
  },
  {
   "cell_type": "code",
   "execution_count": 3,
   "id": "d7f68081",
   "metadata": {},
   "outputs": [
    {
     "data": {
      "text/plain": [
       "array([[1.2188103e-07],\n",
       "       [2.8886142e-09],\n",
       "       [1.5012588e-05],\n",
       "       ...,\n",
       "       [7.5099024e-07],\n",
       "       [6.0394176e-11],\n",
       "       [2.0858038e-09]], dtype=float32)"
      ]
     },
     "execution_count": 3,
     "metadata": {},
     "output_type": "execute_result"
    }
   ],
   "source": [
    "y_prob"
   ]
  },
  {
   "cell_type": "code",
   "execution_count": 4,
   "id": "49972693",
   "metadata": {},
   "outputs": [
    {
     "data": {
      "text/plain": [
       "0.7156413612565445"
      ]
     },
     "execution_count": 4,
     "metadata": {},
     "output_type": "execute_result"
    }
   ],
   "source": [
    "metrics.roc_auc_score(y_true,y_prob)"
   ]
  },
  {
   "cell_type": "code",
   "execution_count": 5,
   "id": "31e8f5f6",
   "metadata": {},
   "outputs": [
    {
     "data": {
      "image/png": "[encoded data removed]",
      "text/plain": [
       "<Figure size 432x288 with 1 Axes>"
      ]
     },
     "metadata": {
      "needs_background": "light"
     },
     "output_type": "display_data"
    },
    {
     "name": "stdout",
     "output_type": "stream",
     "text": [
      "Threshold 0.0003592702\n",
      "Accuracy: 96.01%\n"
     ]
    },
    {
     "data": {
      "text/html": [
       "<div>\n",
       "<style scoped>\n",
       "    .dataframe tbody tr th:only-of-type {\n",
       "        vertical-align: middle;\n",
       "    }\n",
       "\n",
       "    .dataframe tbody tr th {\n",
       "        vertical-align: top;\n",
       "    }\n",
       "\n",
       "    .dataframe thead th {\n",
       "        text-align: right;\n",
       "    }\n",
       "</style>\n",
       "<table border=\"1\" class=\"dataframe\">\n",
       "  <thead>\n",
       "    <tr style=\"text-align: right;\">\n",
       "      <th></th>\n",
       "      <th>0</th>\n",
       "      <th>1</th>\n",
       "    </tr>\n",
       "  </thead>\n",
       "  <tbody>\n",
       "    <tr>\n",
       "      <th>0</th>\n",
       "      <td>1468</td>\n",
       "      <td>60</td>\n",
       "    </tr>\n",
       "    <tr>\n",
       "      <th>1</th>\n",
       "      <td>1</td>\n",
       "      <td>1</td>\n",
       "    </tr>\n",
       "  </tbody>\n",
       "</table>\n",
       "</div>"
      ],
      "text/plain": [
       "      0   1\n",
       "0  1468  60\n",
       "1     1   1"
      ]
     },
     "execution_count": 5,
     "metadata": {},
     "output_type": "execute_result"
    }
   ],
   "source": [
    "fpr, tpr, thr = metrics.roc_curve(y_true,y_prob)\n",
    "plt.plot(fpr,tpr)\n",
    "plt.xlabel('FPR')\n",
    "plt.ylabel('TPR')\n",
    "plt.grid()\n",
    "plt.show()\n",
    "threshold = thr[3]\n",
    "print('Threshold', threshold)\n",
    "y_pred = y_prob >= threshold\n",
    "print('Accuracy: {:.2f}%'.format(100*sum(sum(y_true == y_pred))/len(y_true)))\n",
    "pd.DataFrame(metrics.confusion_matrix(y_true,y_pred))"
   ]
  },
  {
   "cell_type": "code",
   "execution_count": 6,
   "id": "b44ee8f8",
   "metadata": {},
   "outputs": [],
   "source": [
    "df_tpr = pd.DataFrame(tpr)\n",
    "df_fpr = pd.DataFrame(fpr)\n",
    "with open('./results/tpr_chb{:02d}.txt'.format(pat_id), 'w') as f:\n",
    "    dfAsString = df_tpr.to_string(header=False, index=False)\n",
    "    f.write(dfAsString)\n",
    "with open('./results/fpr_chb{:02d}.txt'.format(pat_id), 'w') as f:\n",
    "    dfAsString = df_fpr.to_string(header=False, index=False)\n",
    "    f.write(dfAsString)"
   ]
  },
  {
   "cell_type": "code",
   "execution_count": 7,
   "id": "f816647b",
   "metadata": {},
   "outputs": [
    {
     "data": {
      "image/png": "[encoded data removed]",
      "text/plain": [
       "<Figure size 432x288 with 1 Axes>"
      ]
     },
     "metadata": {
      "needs_background": "light"
     },
     "output_type": "display_data"
    },
    {
     "name": "stdout",
     "output_type": "stream",
     "text": [
      "Threshold 0.0003592702\n",
      "Accuracy: 96.01%\n"
     ]
    },
    {
     "data": {
      "text/html": [
       "<div>\n",
       "<style scoped>\n",
       "    .dataframe tbody tr th:only-of-type {\n",
       "        vertical-align: middle;\n",
       "    }\n",
       "\n",
       "    .dataframe tbody tr th {\n",
       "        vertical-align: top;\n",
       "    }\n",
       "\n",
       "    .dataframe thead th {\n",
       "        text-align: right;\n",
       "    }\n",
       "</style>\n",
       "<table border=\"1\" class=\"dataframe\">\n",
       "  <thead>\n",
       "    <tr style=\"text-align: right;\">\n",
       "      <th></th>\n",
       "      <th>0</th>\n",
       "      <th>1</th>\n",
       "    </tr>\n",
       "  </thead>\n",
       "  <tbody>\n",
       "    <tr>\n",
       "      <th>0</th>\n",
       "      <td>1468</td>\n",
       "      <td>60</td>\n",
       "    </tr>\n",
       "    <tr>\n",
       "      <th>1</th>\n",
       "      <td>1</td>\n",
       "      <td>1</td>\n",
       "    </tr>\n",
       "  </tbody>\n",
       "</table>\n",
       "</div>"
      ],
      "text/plain": [
       "      0   1\n",
       "0  1468  60\n",
       "1     1   1"
      ]
     },
     "execution_count": 7,
     "metadata": {},
     "output_type": "execute_result"
    }
   ],
   "source": [
    "pre, rec, thr = metrics.precision_recall_curve(y_true, y_prob)\n",
    "plt.plot(rec,pre)\n",
    "plt.xlabel('Recall')\n",
    "plt.ylabel('Precision')\n",
    "plt.grid()\n",
    "plt.show()\n",
    "threshold = thr[750]\n",
    "print('Threshold', threshold)\n",
    "y_pred = y_prob >= threshold\n",
    "print('Accuracy: {:.2f}%'.format(100*sum(sum(y_true == y_pred))/len(y_true)))\n",
    "pd.DataFrame(metrics.confusion_matrix(y_true,y_pred))"
   ]
  },
  {
   "cell_type": "code",
   "execution_count": 8,
   "id": "b9b4b2ba",
   "metadata": {},
   "outputs": [],
   "source": [
    "df_pre = pd.DataFrame(pre)\n",
    "df_rec = pd.DataFrame(rec)\n",
    "with open('./results/pre_chb{:02d}.txt'.format(pat_id), 'w') as f:\n",
    "    dfAsString = df_pre.to_string(header=False, index=False)\n",
    "    f.write(dfAsString)\n",
    "with open('./results/rec_chb{:02d}.txt'.format(pat_id), 'w') as f:\n",
    "    dfAsString = df_rec.to_string(header=False, index=False)\n",
    "    f.write(dfAsString)"
   ]
  },
  {
   "cell_type": "code",
   "execution_count": 9,
   "id": "0b74337f",
   "metadata": {},
   "outputs": [
    {
     "name": "stdout",
     "output_type": "stream",
     "text": [
      "CM:\n",
      " [[1468   60]\n",
      " [   1    1]]\n",
      "FP [ 1 60] \n",
      "FN [60  1] \n",
      "TP [1468    1] \n",
      "TN [   1 1468] \n",
      "\n",
      "FPR [0.5        0.03926702] \n",
      "FNR [0.03926702 0.5       ] \n",
      "TPR [0.96073298 0.5       ] \n",
      "TNR [0.5        0.96073298] \n",
      "\n"
     ]
    }
   ],
   "source": [
    "confusion_matrix = metrics.confusion_matrix(y_true,y_pred)\n",
    "FP = confusion_matrix.sum(axis=0) - np.diag(confusion_matrix)  \n",
    "FN = confusion_matrix.sum(axis=1) - np.diag(confusion_matrix)\n",
    "TP = np.diag(confusion_matrix)\n",
    "TN = confusion_matrix.sum() - (FP + FN + TP)\n",
    "\n",
    "# Sensitivity, hit rate, recall, or true positive rate\n",
    "TPR = TP/(TP+FN)\n",
    "# Specificity or true negative rate\n",
    "TNR = TN/(TN+FP) \n",
    "# Precision or positive predictive value\n",
    "PPV = TP/(TP+FP)\n",
    "# Negative predictive value\n",
    "NPV = TN/(TN+FN)\n",
    "# Fall out or false positive rate\n",
    "FPR = FP/(FP+TN)\n",
    "# False negative rate\n",
    "FNR = FN/(TP+FN)\n",
    "# False discovery rate\n",
    "FDR = FP/(TP+FP)\n",
    "\n",
    "# Overall accuracy\n",
    "ACC = (TP+TN)/(TP+FP+FN+TN)\n",
    "print('CM:\\n', confusion_matrix)\n",
    "print('FP {} \\nFN {} \\nTP {} \\nTN {} \\n'.format(FP, FN, TP, TN))\n",
    "print('FPR {} \\nFNR {} \\nTPR {} \\nTNR {} \\n'.format(FPR, FNR, TPR, TNR))"
   ]
  },
  {
   "cell_type": "code",
   "execution_count": 10,
   "id": "4ca7da04",
   "metadata": {},
   "outputs": [],
   "source": [
    "df_cmx = pd.DataFrame(confusion_matrix )\n",
    "with open('./results/cmx_chb{:02d}.txt'.format(pat_id), 'w') as f:\n",
    "    dfAsString = df_cmx.to_string(header=False, index=False)\n",
    "    f.write(dfAsString)"
   ]
  }
 ],
 "metadata": {
  "kernelspec": {
   "display_name": "Python 3 (ipykernel)",
   "language": "python",
   "name": "python3"
  },
  "language_info": {
   "codemirror_mode": {
    "name": "ipython",
    "version": 3
   },
   "file_extension": ".py",
   "mimetype": "text/x-python",
   "name": "python",
   "nbconvert_exporter": "python",
   "pygments_lexer": "ipython3",
   "version": "3.9.6"
  }
 },
 "nbformat": 4,
 "nbformat_minor": 5
}
